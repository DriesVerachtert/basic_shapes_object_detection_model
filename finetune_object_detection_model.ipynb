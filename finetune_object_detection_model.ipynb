{
 "cells": [
  {
   "cell_type": "markdown",
   "metadata": {},
   "source": [
    "# Fine-tuning of facebook/detr-resnet-50 for the detection of basic shapes\n",
    "\n",
    "High-level overview:\n",
    "* Load a dataset with images of basic shapes with HuggingFace Datasets\n",
    "* Transform the dataset so it's compatible with HuggingFace Transformers and the facebook/detr-resnet-50 model\n",
    "* Fine-tune the facebook/detr-resnet-50 model on the dataset with basic shapes\n",
    "* Test some inference: detect basic shapes in some test image\n",
    "\n",
    "At some steps, I added visualizations of the intermediate data so it's easier to understand what's happening.\n",
    "\n",
    "The dataset is something I generated myself and which can be found at:\n",
    "\n",
    "* https://github.com/DriesVerachtert/basic_shapes_object_detection_dataset\n",
    "* https://huggingface.co/datasets/driesverachtert/basic_shapes_object_detection\n",
    "\n",
    "This way I can be sure that the dataset only consists of RGB images of the same size, that all annotations are\n",
    "correct and that all bounding boxes fit within the image => no cleaning of the input data needed.\n",
    "\n",
    "This notebook was mainly developed on a MacBook Pro with an M1 Max, which means PyTorch could use 'MPS' or Metal Performance Shaders for the acceleration of the training. I've tested the code also in a container with JupyterLab on a RHEL 7 machine with V100 GPUs, which means PyTorch could use CUDA. Except for the enormous difference in training speed, there also seems to be a difference in how gradients are handled: when using MPS, gradient clipping does not seem to work, which means gradients sometimes 'explode' and you get a significantly higher training loss in the next step. This can be compensated a bit with a bigger batch size and gradient accumulation. Once I understand a bit better how all this works, I'll try to debug this strange behavior when using MPS.\n",
    "\n",
    "Useful links:\n",
    "* https://github.com/facebookresearch/detr\n",
    "* https://huggingface.co/facebook/detr-resnet-50\n",
    "* https://huggingface.co/docs/transformers/main/en/tasks/object_detection\n",
    "* https://huggingface.co/docs/transformers/main/en/model_doc/detr\n",
    "* https://github.com/Rishit-dagli/CPPE-Dataset\n",
    "\n",
    "You can easily find similar examples on the internet, but in my personal experience it's quite a challenge to find an example that actually works without errors.\n",
    "\n",
    "What I would like to add in some future version:\n",
    "* Get a better understanding of the training parameters like weight decay, learning rate\n",
    "* Test with distributed training across multiple nodes with multiple GPUs\n",
    "* Monitor resource usage to find the optimal batch size\n",
    "* Automatically check after each epoch for overfitting by testing on the test images\n",
    "\n",
    "The git repository with this code for fine-tuning the model: https://github.com/DriesVerachtert/basic_shapes_object_detection_model\n",
    "\n",
    "If everything works out as planned, then the fine-tuned model should appear at https://huggingface.co/models/driesverachtert/basic_shapes_object_detection\n"
   ]
  },
  {
   "cell_type": "code",
   "execution_count": 3,
   "metadata": {},
   "outputs": [],
   "source": [
    "import typing\n",
    "import datasets\n",
    "from PIL.Image import Image\n",
    "import numpy as np\n",
    "import albumentations\n",
    "import numpy as np\n",
    "import torch\n",
    "from torch.utils.data import Dataset as TorchDataset\n",
    "import random\n",
    "import cv2\n",
    "import math\n",
    "import matplotlib.pyplot as plt\n",
    "from matplotlib.axes import Axes\n",
    "from matplotlib.gridspec import GridSpec\n",
    "from matplotlib.figure import Figure\n",
    "import matplotlib.patches as patches\n",
    "from transformers import AutoImageProcessor, AutoModelForObjectDetection, TrainingArguments, Trainer\n",
    "from transformers.models.detr.image_processing_detr import DetrImageProcessor\n",
    "from transformers.models.detr.modeling_detr import DetrForObjectDetection\n",
    "from transformers.tokenization_utils_base import PreTrainedTokenizerBase\n",
    "import torchvision.transforms as tvtransforms\n",
    "import torchvision.transforms.functional as tvfunctional\n",
    "import torchvision.ops as tvops\n",
    "from torchvision.utils import make_grid\n",
    "import torchvision"
   ]
  },
  {
   "cell_type": "markdown",
   "metadata": {},
   "source": [
    "Set a fixed seed so hopefully results can be repeated:"
   ]
  },
  {
   "cell_type": "code",
   "execution_count": 2,
   "metadata": {},
   "outputs": [],
   "source": [
    "random.seed(42)\n",
    "torch.manual_seed(42)\n",
    "np.random.seed(42)"
   ]
  },
  {
   "cell_type": "markdown",
   "metadata": {},
   "source": [
    "Load the dataset from https://huggingface.co/datasets/driesverachtert/basic_shapes_object_detection :"
   ]
  },
  {
   "cell_type": "code",
   "execution_count": 9,
   "metadata": {},
   "outputs": [
    {
     "name": "stdout",
     "output_type": "stream",
     "text": [
      "DatasetDict({\n",
      "    train: Dataset({\n",
      "        features: ['image_id', 'image', 'width', 'height', 'objects'],\n",
      "        num_rows: 1000\n",
      "    })\n",
      "    test: Dataset({\n",
      "        features: ['image_id', 'image', 'width', 'height', 'objects'],\n",
      "        num_rows: 30\n",
      "    })\n",
      "})\n"
     ]
    }
   ],
   "source": [
    "dataset_name: str = 'driesverachtert/basic_shapes_object_detection'\n",
    "ds: datasets.DatasetDict = typing.cast(datasets.DatasetDict, datasets.load_dataset(dataset_name))\n",
    "print(ds)"
   ]
  },
  {
   "cell_type": "markdown",
   "metadata": {},
   "source": [
    "The HuggingFace Datasets library will download the dataset to ~/.cache/huggingface/datasets/\n",
    "\n",
    "This dataset is basically a dictionary containing 2 sets of test images:\n",
    "*  1000 images in the 'train' split\n",
    "* 30 images in the 'test' split\n",
    "\n",
    "Let's list info about the features:"
   ]
  },
  {
   "cell_type": "code",
   "execution_count": 4,
   "metadata": {},
   "outputs": [
    {
     "name": "stdout",
     "output_type": "stream",
     "text": [
      "image_id: Value(dtype='int64', id=None)\n",
      "image: Image(decode=True, id=None)\n",
      "width: Value(dtype='int32', id=None)\n",
      "height: Value(dtype='int32', id=None)\n",
      "objects: Sequence(feature={'id': Value(dtype='int64', id=None), 'area': Value(dtype='int64', id=None), 'bbox': Sequence(feature=Value(dtype='float32', id=None), length=4, id=None), 'category': ClassLabel(names=['Square', 'Circle', 'Triangle'], id=None)}, length=-1, id=None)\n",
      "\n",
      "'objects' in more detail:\n",
      "id: Value(dtype='int64', id=None)\n",
      "area: Value(dtype='int64', id=None)\n",
      "bbox: Sequence(feature=Value(dtype='float32', id=None), length=4, id=None)\n",
      "category: ClassLabel(names=['Square', 'Circle', 'Triangle'], id=None)\n"
     ]
    }
   ],
   "source": [
    "def print_features_of_train_dataset(ds: datasets.DatasetDict):\n",
    "    train_ds: datasets.Dataset = ds['train']\n",
    "\n",
    "    for key in train_ds.features:\n",
    "        print(key + \": \" + str(train_ds.features[key]))\n",
    "\n",
    "    print(\"\\n'objects' in more detail:\")\n",
    "    objects_features: datasets.Sequence = typing.cast(datasets.Sequence, train_ds.features['objects'])\n",
    "    for key in objects_features.feature:\n",
    "        print(key + \": \" + str(objects_features.feature[key]))\n",
    "\n",
    "\n",
    "print_features_of_train_dataset(ds)"
   ]
  },
  {
   "cell_type": "markdown",
   "metadata": {},
   "source": [
    "Each image has an image_id, a width, and a height. Each image also has a list of 'objects' or annotations with labels. Each of those objects has its own id, a bounding box, a category ID and the area of the bounding box.\n",
    "\n",
    "The bounding boxes use the x,y,w,h format: x and y coordinates of the top left corner, width and height. Note that the model uses cx,cy,w,h internally instead: x and y coordinate of the center of the bounding box, width and height.\n",
    "\n",
    "Now store the labels in a list for convenience, and show all info about 1 of the images:"
   ]
  },
  {
   "cell_type": "code",
   "execution_count": 6,
   "metadata": {},
   "outputs": [],
   "source": [
    "category_names: typing.List[str] = typing.cast(datasets.ClassLabel, ds['train'].features['objects'].feature['category']).names"
   ]
  },
  {
   "cell_type": "markdown",
   "metadata": {},
   "source": [
    "Show all info about 1 of the images:"
   ]
  },
  {
   "cell_type": "code",
   "execution_count": 7,
   "metadata": {},
   "outputs": [
    {
     "name": "stdout",
     "output_type": "stream",
     "text": [
      "{'image_id': 0, 'image': <PIL.PngImagePlugin.PngImageFile image mode=RGB size=800x800 at 0x2BA0D0D50>, 'width': 800, 'height': 800, 'objects': {'id': [0, 1, 2], 'area': [10000, 10000, 5000], 'bbox': [[509.0, 593.0, 100.0, 100.0], [286.0, 507.0, 100.0, 100.0], [291.0, 412.0, 100.0, 50.0]], 'category': [0, 1, 2]}}\n",
      "Image with id 0, width 800 and height 800 and 3 objects:\n",
      "object 0 with id 0, area 10000, bbox [509.0, 593.0, 100.0, 100.0], category 0: Square\n",
      "object 1 with id 1, area 10000, bbox [286.0, 507.0, 100.0, 100.0], category 1: Circle\n",
      "object 2 with id 2, area 5000, bbox [291.0, 412.0, 100.0, 50.0], category 2: Triangle\n"
     ]
    }
   ],
   "source": [
    "def print_info_single_image(img_data: typing.Dict) -> None:\n",
    "    image_id: int = img_data['image_id']\n",
    "    image: Image = img_data['image']\n",
    "    width: int = img_data['width']\n",
    "    height: int = img_data['height']\n",
    "    object_id: typing.List[int] = img_data['objects']['id']\n",
    "    object_area: typing.List[int] = img_data['objects']['area']\n",
    "    object_bbox: typing.List[typing.List[int]] = img_data['objects']['bbox']\n",
    "    object_category: typing.List[int] = img_data['objects']['category']\n",
    "    print(f\"Image with id {image_id}, width {width} and height {height} and {len(object_id)} objects:\")\n",
    "    for i, id in enumerate(object_id):\n",
    "        cat_id: int = object_category[i]\n",
    "        cat_name: str = category_names[cat_id]\n",
    "        print(f\"object {i} with id {id}, area {object_area[i]}, bbox {object_bbox[i]}, category {cat_id}: {cat_name}\")\n",
    "\n",
    "def print_info_of_image_0_of_train():\n",
    "    img_data: typing.Dict = ds[\"train\"][0]\n",
    "    print(img_data)\n",
    "    print_info_single_image(img_data)\n",
    "\n",
    "print_info_of_image_0_of_train()"
   ]
  },
  {
   "cell_type": "markdown",
   "metadata": {},
   "source": [
    "The location of the shapes is different in each of the images, but each of the images has the same number of objects / bounding boxes:\n",
    "* 1 bounding box containing a square\n",
    "* 1 bounding box containing a circle\n",
    "* 1 bounding box containing a triangle\n",
    "\n",
    "Let's display some of the images in a grid:"
   ]
  },
  {
   "cell_type": "code",
   "execution_count": 10,
   "metadata": {},
   "outputs": [
    {
     "name": "stderr",
     "output_type": "stream",
     "text": [
      "/Users/verachte/git/github/basic_shapes_object_detection_model/venv/lib/python3.11/site-packages/torchvision/utils.py:223: UserWarning: Argument 'font_size' will be ignored since 'font' is not set.\n",
      "  warnings.warn(\"Argument 'font_size' will be ignored since 'font' is not set.\")\n"
     ]
    },
    {
     "data": {
      "image/png": "[encoded data removed]",
      "text/plain": [
       "<Figure size 4500x3000 with 1 Axes>"
      ]
     },
     "metadata": {},
     "output_type": "display_data"
    }
   ],
   "source": [
    "def create_single_image_with_annotations(img_data: typing.Dict, font: str = \"Verdana\", box_width: int = 1, font_size: int = 10) -> Image:\n",
    "    \"\"\" Create an image with the bounding boxes and labels applied \"\"\"\n",
    "    img_as_tensor: torch.Tensor = tvfunctional.pil_to_tensor(img_data['image'])\n",
    "    # draw_bounding_boxes expects boxes in xmin, ymin, xmax, ymax format,\n",
    "    # while this dataset uses x,y, width, height. => torchvision has some conversion function\n",
    "    boxes: torch.Tensor = tvops.box_convert(torch.tensor(img_data['objects']['bbox']), 'xywh', 'xyxy')\n",
    "    labels: typing.List[str] = [category_names[i] for i in  img_data['objects']['category']]\n",
    "    image_with_boxes: torch.Tensor = torchvision.utils.draw_bounding_boxes(image=img_as_tensor,\n",
    "                                        boxes=boxes,\n",
    "                                        labels=labels,\n",
    "                                        colors='black',\n",
    "                                        fill=False,\n",
    "                                        width=box_width,\n",
    "                                  \n",
    "                                        font_size=font_size)\n",
    "    return tvfunctional.to_pil_image(image_with_boxes)\n",
    "\n",
    "\n",
    "def show_images_in_grid(img_data_list: datasets.Dataset):\n",
    "    ''' Show a bunch of images with their annotations in a grid with 2 images per row '''\n",
    "    images: typing.List[Image] = [create_single_image_with_annotations(typing.cast(typing.Dict, img_data), font_size=15, box_width=3) for img_data in img_data_list]\n",
    "    # Transform the images to tensor\n",
    "    # TODO: convert create_single_image_with_annotations also to such a transformation\n",
    "    transform = tvtransforms.Compose([\n",
    "        tvtransforms.Resize((1024, 1024)),\n",
    "        tvtransforms.ToTensor()\n",
    "    ])\n",
    "    tensors = [transform(img) for img in images]\n",
    "    # combine the images into 1 big tensor\n",
    "    batch = torch.stack(tensors)\n",
    "    # make a grid of images with 2 images per row\n",
    "    grid_img = make_grid(batch, nrow=3)\n",
    "\n",
    "    num_rows: int = math.ceil(float(len(img_data_list))/3.)\n",
    "    width_height_per_image: int = 15\n",
    "    plt.figure(figsize=(width_height_per_image*3, num_rows*width_height_per_image))\n",
    "    \n",
    "    plt.imshow(grid_img.permute(1, 2, 0))\n",
    "    plt.axis('off')\n",
    "    plt.subplots_adjust(left=0, right=1, top=1, bottom=0, wspace=0, hspace=0)\n",
    "    plt.show()\n",
    "\n",
    "def show_some_images():\n",
    "    some_images: datasets.Dataset = ds['train'].select(range(20,26))\n",
    "    show_images_in_grid(some_images)\n",
    "\n",
    "show_some_images()\n"
   ]
  },
  {
   "cell_type": "markdown",
   "metadata": {},
   "source": [
    "When working on a real dataset, there's often some cleanup to be done:\n",
    "* Check if all the images are valid and use RGB without transparancy\n",
    "* Check if all bounding boxes are located within the boundaries of the image\n",
    "\n",
    "In this case, that's not needed as that was already checked when the dataset was created.\n",
    "\n",
    "Also often it's useful to do image augmentation with for example the albumentations library, but that's overkill for this dataset."
   ]
  },
  {
   "cell_type": "markdown",
   "metadata": {},
   "source": [
    "Create the AutoImageProcessor which will deal with the pixel values and masks and so on:"
   ]
  },
  {
   "cell_type": "code",
   "execution_count": 11,
   "metadata": {},
   "outputs": [
    {
     "name": "stderr",
     "output_type": "stream",
     "text": [
      "Could not find image processor class in the image processor config or the model config. Loading based on pattern matching with the model's feature extractor configuration. Please open a PR/issue to update `preprocessor_config.json` to use `image_processor_type` instead of `feature_extractor_type`. This warning will be removed in v4.40.\n",
      "The `max_size` parameter is deprecated and will be removed in v4.26. Please specify in `size['longest_edge'] instead`.\n"
     ]
    },
    {
     "name": "stdout",
     "output_type": "stream",
     "text": [
      "DetrImageProcessor {\n",
      "  \"_valid_processor_keys\": [\n",
      "    \"images\",\n",
      "    \"annotations\",\n",
      "    \"return_segmentation_masks\",\n",
      "    \"masks_path\",\n",
      "    \"do_resize\",\n",
      "    \"size\",\n",
      "    \"resample\",\n",
      "    \"do_rescale\",\n",
      "    \"rescale_factor\",\n",
      "    \"do_normalize\",\n",
      "    \"do_convert_annotations\",\n",
      "    \"image_mean\",\n",
      "    \"image_std\",\n",
      "    \"do_pad\",\n",
      "    \"format\",\n",
      "    \"return_tensors\",\n",
      "    \"data_format\",\n",
      "    \"input_data_format\"\n",
      "  ],\n",
      "  \"do_convert_annotations\": true,\n",
      "  \"do_normalize\": true,\n",
      "  \"do_pad\": true,\n",
      "  \"do_rescale\": true,\n",
      "  \"do_resize\": true,\n",
      "  \"format\": \"coco_detection\",\n",
      "  \"image_mean\": [\n",
      "    0.485,\n",
      "    0.456,\n",
      "    0.406\n",
      "  ],\n",
      "  \"image_processor_type\": \"DetrImageProcessor\",\n",
      "  \"image_std\": [\n",
      "    0.229,\n",
      "    0.224,\n",
      "    0.225\n",
      "  ],\n",
      "  \"resample\": 2,\n",
      "  \"rescale_factor\": 0.00392156862745098,\n",
      "  \"size\": {\n",
      "    \"longest_edge\": 1333,\n",
      "    \"shortest_edge\": 800\n",
      "  }\n",
      "}\n",
      "\n"
     ]
    }
   ],
   "source": [
    "image_processor_checkpoint = \"facebook/detr-resnet-50\"\n",
    "image_processor: DetrImageProcessor = AutoImageProcessor.from_pretrained(image_processor_checkpoint)\n",
    "print(image_processor)"
   ]
  },
  {
   "cell_type": "markdown",
   "metadata": {},
   "source": [
    "See https://huggingface.co/facebook/detr-resnet-50 for details about the image processor.\n",
    "\n",
    "Now we'll convert the images in the format that the model expects. The issue:\n",
    "\n",
    "The annotations are currently structured in a way which doesn't work with the HuggingFace DETR model, see https://huggingface.co/docs/transformers/model_doc/detr . At the moment, info about a single image and all its annotations (bounding boxes and labels) are stored in multiple lists, while DETR expects a list containing a single dict for each annotation separately. Suppose the dataset has an image with 5 annotations, then this has to be converted into 5 dicts for each annotation separately.\n",
    "\n",
    "The dataset contains for each image:\n",
    "- A list of bounding boxes\n",
    "- A list of category IDs / labels for each of the bounding boxes\n",
    "- Area sizes for each of the bounding boxes\n",
    "\n",
    "This needs to become:\n",
    "- A dict for each object, containing:\n",
    "  - a single bounding box\n",
    "  - a category ID\n",
    "  - an area size\n",
    "\n",
    "A call to albumentations is kept, but at the moment it isn't used to augment the dataset."
   ]
  },
  {
   "cell_type": "code",
   "execution_count": 7,
   "metadata": {},
   "outputs": [],
   "source": [
    "albumentations_transform = albumentations.Compose(\n",
    "  transforms=[],\n",
    "  bbox_params=albumentations.BboxParams(format=\"coco\", label_fields=[\"category\"]))\n",
    "\n",
    "def transform_for_detr(batch: typing.Dict):\n",
    "    \"\"\" transform a batch of images to detr format\n",
    "    batch: a dict, with elements like image_id, image, width.. and each value is a list.\n",
    "    That list might contain the info of just 1 image, but it can also be of more\"\"\"\n",
    "    # first transform to lists\n",
    "    images: typing.List[np.ndarray] = []\n",
    "    annotations: typing.List[typing.Dict] = []\n",
    "\n",
    "    # TODO use albumentations to create multiple transformed images from a single dataset image\n",
    "    for i, image_id in enumerate(batch['image_id']):\n",
    "      objects = batch['objects'][i]\n",
    "      image_orig = np.array(batch['image'][i])\n",
    "      image_transformed = albumentations_transform(image=image_orig, bboxes=objects[\"bbox\"], category=objects[\"category\"])\n",
    "      images.append(image_transformed['image'])\n",
    "      bboxes = image_transformed['bboxes']\n",
    "      categories = image_transformed['category']\n",
    "\n",
    "      # TODO we could probably drop those: not used, and they should also be updated if certain albumentations transformations\n",
    "      # are used that resize or crop the image\n",
    "      areas = objects['area']\n",
    "      width = batch['width'][i]\n",
    "      height = batch['height'][i]\n",
    "\n",
    "      annotations_of_single_image = []\n",
    "      for bbox, category_id, area in zip(bboxes, categories, areas):\n",
    "         single_annotation_of_image = {}\n",
    "         single_annotation_of_image['category_id'] = category_id\n",
    "         single_annotation_of_image['bbox'] = bbox\n",
    "         single_annotation_of_image['area'] = area # probably not needed\n",
    "         single_annotation_of_image['image_id'] = image_id # probably not needed\n",
    "         annotations_of_single_image.append(single_annotation_of_image)\n",
    "\n",
    "      annotations_of_image = {}\n",
    "      annotations_of_image['image_id'] = image_id\n",
    "      annotations_of_image['annotations'] = annotations_of_single_image\n",
    "      annotations.append(annotations_of_image)\n",
    "\n",
    "    # convert the preprocessed data now into the format that the model uses internally\n",
    "    return image_processor(images=images, annotations=annotations, return_tensors=\"pt\")"
   ]
  },
  {
   "cell_type": "markdown",
   "metadata": {},
   "source": [
    "Convert a single image and check how it looks like:"
   ]
  },
  {
   "cell_type": "code",
   "execution_count": 10,
   "metadata": {},
   "outputs": [
    {
     "name": "stdout",
     "output_type": "stream",
     "text": [
      "{'pixel_values': tensor([[[2.2489, 2.2489, 2.2489,  ..., 2.2489, 2.2489, 2.2489],\n",
      "         [2.2489, 2.2489, 2.2489,  ..., 2.2489, 2.2489, 2.2489],\n",
      "         [2.2489, 2.2489, 2.2489,  ..., 2.2489, 2.2489, 2.2489],\n",
      "         ...,\n",
      "         [2.2489, 2.2489, 2.2489,  ..., 2.2489, 2.2489, 2.2489],\n",
      "         [2.2489, 2.2489, 2.2489,  ..., 2.2489, 2.2489, 2.2489],\n",
      "         [2.2489, 2.2489, 2.2489,  ..., 2.2489, 2.2489, 2.2489]],\n",
      "\n",
      "        [[2.4286, 2.4286, 2.4286,  ..., 2.4286, 2.4286, 2.4286],\n",
      "         [2.4286, 2.4286, 2.4286,  ..., 2.4286, 2.4286, 2.4286],\n",
      "         [2.4286, 2.4286, 2.4286,  ..., 2.4286, 2.4286, 2.4286],\n",
      "         ...,\n",
      "         [2.4286, 2.4286, 2.4286,  ..., 2.4286, 2.4286, 2.4286],\n",
      "         [2.4286, 2.4286, 2.4286,  ..., 2.4286, 2.4286, 2.4286],\n",
      "         [2.4286, 2.4286, 2.4286,  ..., 2.4286, 2.4286, 2.4286]],\n",
      "\n",
      "        [[2.6400, 2.6400, 2.6400,  ..., 2.6400, 2.6400, 2.6400],\n",
      "         [2.6400, 2.6400, 2.6400,  ..., 2.6400, 2.6400, 2.6400],\n",
      "         [2.6400, 2.6400, 2.6400,  ..., 2.6400, 2.6400, 2.6400],\n",
      "         ...,\n",
      "         [2.6400, 2.6400, 2.6400,  ..., 2.6400, 2.6400, 2.6400],\n",
      "         [2.6400, 2.6400, 2.6400,  ..., 2.6400, 2.6400, 2.6400],\n",
      "         [2.6400, 2.6400, 2.6400,  ..., 2.6400, 2.6400, 2.6400]]]), 'pixel_mask': tensor([[1, 1, 1,  ..., 1, 1, 1],\n",
      "        [1, 1, 1,  ..., 1, 1, 1],\n",
      "        [1, 1, 1,  ..., 1, 1, 1],\n",
      "        ...,\n",
      "        [1, 1, 1,  ..., 1, 1, 1],\n",
      "        [1, 1, 1,  ..., 1, 1, 1],\n",
      "        [1, 1, 1,  ..., 1, 1, 1]]), 'labels': {'size': tensor([800, 800]), 'image_id': tensor([0]), 'class_labels': tensor([0, 1, 2]), 'boxes': tensor([[0.6988, 0.8037, 0.1250, 0.1250],\n",
      "        [0.4200, 0.6963, 0.1250, 0.1250],\n",
      "        [0.4263, 0.5462, 0.1250, 0.0625]]), 'area': tensor([10000., 10000.,  5000.]), 'iscrowd': tensor([0, 0, 0]), 'orig_size': tensor([800, 800])}}\n"
     ]
    }
   ],
   "source": [
    "print(ds[\"train\"].with_transform(transform_for_detr)[0])"
   ]
  },
  {
   "cell_type": "markdown",
   "metadata": {},
   "source": [
    "The result of the transformation is a dict containing:\n",
    "* pixel_values: a Tensor\n",
    "* pixel_mask: a Tensor\n",
    "* labels: a 'BatchFeature'\n",
    "\n",
    "Store the entries in the dictionary as separate values to have a closer look:"
   ]
  },
  {
   "cell_type": "code",
   "execution_count": 11,
   "metadata": {},
   "outputs": [],
   "source": [
    "from transformers.image_processing_utils import BatchFeature\n",
    "\n",
    "single_transformed_image: typing.Dict[str,typing.Any] = ds[\"train\"].with_transform(transform_for_detr)[0]\n",
    "\n",
    "single_transformed_image_pixel_values: torch.Tensor = single_transformed_image['pixel_values']\n",
    "single_transformed_image_pixel_mask: torch.Tensor = single_transformed_image['pixel_mask']\n",
    "single_transformed_image_labels: BatchFeature = single_transformed_image['labels']"
   ]
  },
  {
   "cell_type": "markdown",
   "metadata": {},
   "source": [
    "The pixel_values are normalized: instead of pixel values between 0 and 1 or between 0 and 255, you get values with an average of 0 and both negative and positive values. Although normalized, matplotlib does not seem to have any issues to display the image (I didn't expect that to work to be honest).\n",
    "\n",
    "Note how the rectangles of the boxes are drawn: after the transformation, the bounding boxes are in cx,cy,wh format: the x,y coordinates of the center of the bounding box, width and height. This is the format that the model uses internally. Also the values are scaled to 0-1 => a coordinate (0,0) corresponds to the top left corner of the image and (1,1) corresponds to the bottom right corner.\n",
    "\n",
    "The input images are of size 800x800, which is in the range of sizes that the model can use. This means that the image processor does not need to resize the image."
   ]
  },
  {
   "cell_type": "code",
   "execution_count": 12,
   "metadata": {},
   "outputs": [
    {
     "name": "stderr",
     "output_type": "stream",
     "text": [
      "Clipping input data to the valid range for imshow with RGB data ([0..1] for floats or [0..255] for integers).\n"
     ]
    },
    {
     "name": "stdout",
     "output_type": "stream",
     "text": [
      "pixel_values is a tensor with shape torch.Size([3, 800, 800])\n",
      "Minimum value -2.1179039478302\n",
      "Maximum value 2.640000104904175\n",
      "width: 800, height: 800\n",
      "tensor([0.6988, 0.8037, 0.1250, 0.1250])\n",
      "tensor([0.4200, 0.6963, 0.1250, 0.1250])\n",
      "tensor([0.4263, 0.5462, 0.1250, 0.0625])\n"
     ]
    },
    {
     "data": {
      "image/png": "[encoded data removed]",
      "text/plain": [
       "<Figure size 640x480 with 1 Axes>"
      ]
     },
     "metadata": {},
     "output_type": "display_data"
    }
   ],
   "source": [
    "def show_pixel_values(pixel_values: torch.Tensor, boxes: torch.Tensor):\n",
    "    print(f\"pixel_values is a tensor with shape {pixel_values.shape}\")\n",
    "    print(f\"Minimum value {pixel_values.min()}\")\n",
    "    print(f\"Maximum value {pixel_values.max()}\")\n",
    "    \n",
    "    # to show a tensor as an image, the RGB values should be the last dimension\n",
    "    image: np.ndarray = pixel_values.permute(1, 2, 0).numpy()\n",
    "    width: int = image.shape[0]\n",
    "    height: int = image.shape[1]\n",
    "    print(f\"width: {width}, height: {height}\")\n",
    "    _, ax = plt.subplots()\n",
    "    # Show the image\n",
    "    ax.imshow(image)\n",
    "    ax.axis('off')\n",
    "    for box in boxes:\n",
    "        print(box)\n",
    "        # cx,cy,w,h format!\n",
    "        bw: int = int(box[2]*width)\n",
    "        bh: int = int(box[3]*height)\n",
    "        bx: int = int(box[0]*width - bw/2)\n",
    "        by: int = int(box[1]*height - bh/2)\n",
    "        rect = patches.Rectangle((bx, by), bw, bh, linewidth=1, edgecolor='black', facecolor='none')\n",
    "        ax.add_patch(rect)\n",
    "    plt.show()\n",
    "\n",
    "show_pixel_values(single_transformed_image_pixel_values, single_transformed_image_labels['boxes'])"
   ]
  },
  {
   "cell_type": "markdown",
   "metadata": {},
   "source": [
    "The pixel_mask seems to contain only '1' values. As far as I understand, pixel masks are only used for segmentation tasks and not for object detection tasks."
   ]
  },
  {
   "cell_type": "code",
   "execution_count": 13,
   "metadata": {},
   "outputs": [
    {
     "name": "stdout",
     "output_type": "stream",
     "text": [
      "pixel_mask is a tensor with shape torch.Size([800, 800])\n",
      "Minimum value 1\n",
      "Maximum value 1\n"
     ]
    },
    {
     "data": {
      "image/png": "[encoded data removed]",
      "text/plain": [
       "<Figure size 640x480 with 1 Axes>"
      ]
     },
     "metadata": {},
     "output_type": "display_data"
    }
   ],
   "source": [
    "def show_pixel_mask(pixel_mask: torch.Tensor):\n",
    "    print(f\"pixel_mask is a tensor with shape {pixel_mask.shape}\")\n",
    "    print(f\"Minimum value {pixel_mask.min()}\")\n",
    "    print(f\"Maximum value {pixel_mask.max()}\")\n",
    "\n",
    "    image = pixel_mask.numpy()\n",
    "    # Show the image\n",
    "    plt.imshow(image)\n",
    "    plt.axis('off')\n",
    "    plt.show()\n",
    "\n",
    "show_pixel_mask(single_transformed_image_pixel_mask)"
   ]
  },
  {
   "cell_type": "markdown",
   "metadata": {},
   "source": [
    "The labels object behaves like a dict with the following keys:\n",
    "* size: \n",
    "* image_id\n",
    "* class_labels\n",
    "* boxes: bounding boxes, but scaled to values between 0 and 1\n",
    "* area: sizes of the bounding boxes\n",
    "* iscrowd: 0 as we're not classifying groups of objects\n",
    "* orig_size: original size of the image"
   ]
  },
  {
   "cell_type": "code",
   "execution_count": 14,
   "metadata": {},
   "outputs": [
    {
     "name": "stdout",
     "output_type": "stream",
     "text": [
      "size:tensor([800, 800])\n",
      "image_id:tensor([0])\n",
      "class_labels:tensor([0, 1, 2])\n",
      "boxes:tensor([[0.6988, 0.8037, 0.1250, 0.1250],\n",
      "        [0.4200, 0.6963, 0.1250, 0.1250],\n",
      "        [0.4263, 0.5462, 0.1250, 0.0625]])\n",
      "area:tensor([10000., 10000.,  5000.])\n",
      "iscrowd:tensor([0, 0, 0])\n",
      "orig_size:tensor([800, 800])\n"
     ]
    }
   ],
   "source": [
    "for k,v in single_transformed_image_labels.items():\n",
    "    print(f\"{k}:{v}\")"
   ]
  },
  {
   "cell_type": "markdown",
   "metadata": {},
   "source": [
    "Now transform all of the images, and store it again within the dataset as a new 'split':"
   ]
  },
  {
   "cell_type": "code",
   "execution_count": 8,
   "metadata": {},
   "outputs": [],
   "source": [
    "ds[\"train_transformed\"] = ds[\"train\"].with_transform(transform_for_detr)\n",
    "ds[\"test_transformed\"] = ds[\"test\"].with_transform(transform_for_detr)"
   ]
  },
  {
   "cell_type": "markdown",
   "metadata": {},
   "source": [
    "Download the model from HuggingFace Hub which we'll use for finetuning:"
   ]
  },
  {
   "cell_type": "code",
   "execution_count": 9,
   "metadata": {},
   "outputs": [
    {
     "name": "stderr",
     "output_type": "stream",
     "text": [
      "Some weights of the model checkpoint at facebook/detr-resnet-50 were not used when initializing DetrForObjectDetection: ['model.backbone.conv_encoder.model.layer1.0.downsample.1.num_batches_tracked', 'model.backbone.conv_encoder.model.layer2.0.downsample.1.num_batches_tracked', 'model.backbone.conv_encoder.model.layer3.0.downsample.1.num_batches_tracked', 'model.backbone.conv_encoder.model.layer4.0.downsample.1.num_batches_tracked']\n",
      "- This IS expected if you are initializing DetrForObjectDetection from the checkpoint of a model trained on another task or with another architecture (e.g. initializing a BertForSequenceClassification model from a BertForPreTraining model).\n",
      "- This IS NOT expected if you are initializing DetrForObjectDetection from the checkpoint of a model that you expect to be exactly identical (initializing a BertForSequenceClassification model from a BertForSequenceClassification model).\n",
      "Some weights of DetrForObjectDetection were not initialized from the model checkpoint at facebook/detr-resnet-50 and are newly initialized because the shapes did not match:\n",
      "- class_labels_classifier.weight: found shape torch.Size([92, 256]) in the checkpoint and torch.Size([4, 256]) in the model instantiated\n",
      "- class_labels_classifier.bias: found shape torch.Size([92]) in the checkpoint and torch.Size([4]) in the model instantiated\n",
      "You should probably TRAIN this model on a down-stream task to be able to use it for predictions and inference.\n"
     ]
    },
    {
     "name": "stdout",
     "output_type": "stream",
     "text": [
      "DetrForObjectDetection(\n",
      "  (model): DetrModel(\n",
      "    (backbone): DetrConvModel(\n",
      "      (conv_encoder): DetrConvEncoder(\n",
      "        (model): FeatureListNet(\n",
      "          (conv1): Conv2d(3, 64, kernel_size=(7, 7), stride=(2, 2), padding=(3, 3), bias=False)\n",
      "          (bn1): DetrFrozenBatchNorm2d()\n",
      "          (act1): ReLU(inplace=True)\n",
      "          (maxpool): MaxPool2d(kernel_size=3, stride=2, padding=1, dilation=1, ceil_mode=False)\n",
      "          (layer1): Sequential(\n",
      "            (0): Bottleneck(\n",
      "              (conv1): Conv2d(64, 64, kernel_size=(1, 1), stride=(1, 1), bias=False)\n",
      "              (bn1): DetrFrozenBatchNorm2d()\n",
      "              (act1): ReLU(inplace=True)\n",
      "              (conv2): Conv2d(64, 64, kernel_size=(3, 3), stride=(1, 1), padding=(1, 1), bias=False)\n",
      "              (bn2): DetrFrozenBatchNorm2d()\n",
      "              (drop_block): Identity()\n",
      "              (act2): ReLU(inplace=True)\n",
      "              (aa): Identity()\n",
      "              (conv3): Conv2d(64, 256, kernel_size=(1, 1), stride=(1, 1), bias=False)\n",
      "              (bn3): DetrFrozenBatchNorm2d()\n",
      "              (act3): ReLU(inplace=True)\n",
      "              (downsample): Sequential(\n",
      "                (0): Conv2d(64, 256, kernel_size=(1, 1), stride=(1, 1), bias=False)\n",
      "                (1): DetrFrozenBatchNorm2d()\n",
      "              )\n",
      "            )\n",
      "            (1): Bottleneck(\n",
      "              (conv1): Conv2d(256, 64, kernel_size=(1, 1), stride=(1, 1), bias=False)\n",
      "              (bn1): DetrFrozenBatchNorm2d()\n",
      "              (act1): ReLU(inplace=True)\n",
      "              (conv2): Conv2d(64, 64, kernel_size=(3, 3), stride=(1, 1), padding=(1, 1), bias=False)\n",
      "              (bn2): DetrFrozenBatchNorm2d()\n",
      "              (drop_block): Identity()\n",
      "              (act2): ReLU(inplace=True)\n",
      "              (aa): Identity()\n",
      "              (conv3): Conv2d(64, 256, kernel_size=(1, 1), stride=(1, 1), bias=False)\n",
      "              (bn3): DetrFrozenBatchNorm2d()\n",
      "              (act3): ReLU(inplace=True)\n",
      "            )\n",
      "            (2): Bottleneck(\n",
      "              (conv1): Conv2d(256, 64, kernel_size=(1, 1), stride=(1, 1), bias=False)\n",
      "              (bn1): DetrFrozenBatchNorm2d()\n",
      "              (act1): ReLU(inplace=True)\n",
      "              (conv2): Conv2d(64, 64, kernel_size=(3, 3), stride=(1, 1), padding=(1, 1), bias=False)\n",
      "              (bn2): DetrFrozenBatchNorm2d()\n",
      "              (drop_block): Identity()\n",
      "              (act2): ReLU(inplace=True)\n",
      "              (aa): Identity()\n",
      "              (conv3): Conv2d(64, 256, kernel_size=(1, 1), stride=(1, 1), bias=False)\n",
      "              (bn3): DetrFrozenBatchNorm2d()\n",
      "              (act3): ReLU(inplace=True)\n",
      "            )\n",
      "          )\n",
      "          (layer2): Sequential(\n",
      "            (0): Bottleneck(\n",
      "              (conv1): Conv2d(256, 128, kernel_size=(1, 1), stride=(1, 1), bias=False)\n",
      "              (bn1): DetrFrozenBatchNorm2d()\n",
      "              (act1): ReLU(inplace=True)\n",
      "              (conv2): Conv2d(128, 128, kernel_size=(3, 3), stride=(2, 2), padding=(1, 1), bias=False)\n",
      "              (bn2): DetrFrozenBatchNorm2d()\n",
      "              (drop_block): Identity()\n",
      "              (act2): ReLU(inplace=True)\n",
      "              (aa): Identity()\n",
      "              (conv3): Conv2d(128, 512, kernel_size=(1, 1), stride=(1, 1), bias=False)\n",
      "              (bn3): DetrFrozenBatchNorm2d()\n",
      "              (act3): ReLU(inplace=True)\n",
      "              (downsample): Sequential(\n",
      "                (0): Conv2d(256, 512, kernel_size=(1, 1), stride=(2, 2), bias=False)\n",
      "                (1): DetrFrozenBatchNorm2d()\n",
      "              )\n",
      "            )\n",
      "            (1): Bottleneck(\n",
      "              (conv1): Conv2d(512, 128, kernel_size=(1, 1), stride=(1, 1), bias=False)\n",
      "              (bn1): DetrFrozenBatchNorm2d()\n",
      "              (act1): ReLU(inplace=True)\n",
      "              (conv2): Conv2d(128, 128, kernel_size=(3, 3), stride=(1, 1), padding=(1, 1), bias=False)\n",
      "              (bn2): DetrFrozenBatchNorm2d()\n",
      "              (drop_block): Identity()\n",
      "              (act2): ReLU(inplace=True)\n",
      "              (aa): Identity()\n",
      "              (conv3): Conv2d(128, 512, kernel_size=(1, 1), stride=(1, 1), bias=False)\n",
      "              (bn3): DetrFrozenBatchNorm2d()\n",
      "              (act3): ReLU(inplace=True)\n",
      "            )\n",
      "            (2): Bottleneck(\n",
      "              (conv1): Conv2d(512, 128, kernel_size=(1, 1), stride=(1, 1), bias=False)\n",
      "              (bn1): DetrFrozenBatchNorm2d()\n",
      "              (act1): ReLU(inplace=True)\n",
      "              (conv2): Conv2d(128, 128, kernel_size=(3, 3), stride=(1, 1), padding=(1, 1), bias=False)\n",
      "              (bn2): DetrFrozenBatchNorm2d()\n",
      "              (drop_block): Identity()\n",
      "              (act2): ReLU(inplace=True)\n",
      "              (aa): Identity()\n",
      "              (conv3): Conv2d(128, 512, kernel_size=(1, 1), stride=(1, 1), bias=False)\n",
      "              (bn3): DetrFrozenBatchNorm2d()\n",
      "              (act3): ReLU(inplace=True)\n",
      "            )\n",
      "            (3): Bottleneck(\n",
      "              (conv1): Conv2d(512, 128, kernel_size=(1, 1), stride=(1, 1), bias=False)\n",
      "              (bn1): DetrFrozenBatchNorm2d()\n",
      "              (act1): ReLU(inplace=True)\n",
      "              (conv2): Conv2d(128, 128, kernel_size=(3, 3), stride=(1, 1), padding=(1, 1), bias=False)\n",
      "              (bn2): DetrFrozenBatchNorm2d()\n",
      "              (drop_block): Identity()\n",
      "              (act2): ReLU(inplace=True)\n",
      "              (aa): Identity()\n",
      "              (conv3): Conv2d(128, 512, kernel_size=(1, 1), stride=(1, 1), bias=False)\n",
      "              (bn3): DetrFrozenBatchNorm2d()\n",
      "              (act3): ReLU(inplace=True)\n",
      "            )\n",
      "          )\n",
      "          (layer3): Sequential(\n",
      "            (0): Bottleneck(\n",
      "              (conv1): Conv2d(512, 256, kernel_size=(1, 1), stride=(1, 1), bias=False)\n",
      "              (bn1): DetrFrozenBatchNorm2d()\n",
      "              (act1): ReLU(inplace=True)\n",
      "              (conv2): Conv2d(256, 256, kernel_size=(3, 3), stride=(2, 2), padding=(1, 1), bias=False)\n",
      "              (bn2): DetrFrozenBatchNorm2d()\n",
      "              (drop_block): Identity()\n",
      "              (act2): ReLU(inplace=True)\n",
      "              (aa): Identity()\n",
      "              (conv3): Conv2d(256, 1024, kernel_size=(1, 1), stride=(1, 1), bias=False)\n",
      "              (bn3): DetrFrozenBatchNorm2d()\n",
      "              (act3): ReLU(inplace=True)\n",
      "              (downsample): Sequential(\n",
      "                (0): Conv2d(512, 1024, kernel_size=(1, 1), stride=(2, 2), bias=False)\n",
      "                (1): DetrFrozenBatchNorm2d()\n",
      "              )\n",
      "            )\n",
      "            (1): Bottleneck(\n",
      "              (conv1): Conv2d(1024, 256, kernel_size=(1, 1), stride=(1, 1), bias=False)\n",
      "              (bn1): DetrFrozenBatchNorm2d()\n",
      "              (act1): ReLU(inplace=True)\n",
      "              (conv2): Conv2d(256, 256, kernel_size=(3, 3), stride=(1, 1), padding=(1, 1), bias=False)\n",
      "              (bn2): DetrFrozenBatchNorm2d()\n",
      "              (drop_block): Identity()\n",
      "              (act2): ReLU(inplace=True)\n",
      "              (aa): Identity()\n",
      "              (conv3): Conv2d(256, 1024, kernel_size=(1, 1), stride=(1, 1), bias=False)\n",
      "              (bn3): DetrFrozenBatchNorm2d()\n",
      "              (act3): ReLU(inplace=True)\n",
      "            )\n",
      "            (2): Bottleneck(\n",
      "              (conv1): Conv2d(1024, 256, kernel_size=(1, 1), stride=(1, 1), bias=False)\n",
      "              (bn1): DetrFrozenBatchNorm2d()\n",
      "              (act1): ReLU(inplace=True)\n",
      "              (conv2): Conv2d(256, 256, kernel_size=(3, 3), stride=(1, 1), padding=(1, 1), bias=False)\n",
      "              (bn2): DetrFrozenBatchNorm2d()\n",
      "              (drop_block): Identity()\n",
      "              (act2): ReLU(inplace=True)\n",
      "              (aa): Identity()\n",
      "              (conv3): Conv2d(256, 1024, kernel_size=(1, 1), stride=(1, 1), bias=False)\n",
      "              (bn3): DetrFrozenBatchNorm2d()\n",
      "              (act3): ReLU(inplace=True)\n",
      "            )\n",
      "            (3): Bottleneck(\n",
      "              (conv1): Conv2d(1024, 256, kernel_size=(1, 1), stride=(1, 1), bias=False)\n",
      "              (bn1): DetrFrozenBatchNorm2d()\n",
      "              (act1): ReLU(inplace=True)\n",
      "              (conv2): Conv2d(256, 256, kernel_size=(3, 3), stride=(1, 1), padding=(1, 1), bias=False)\n",
      "              (bn2): DetrFrozenBatchNorm2d()\n",
      "              (drop_block): Identity()\n",
      "              (act2): ReLU(inplace=True)\n",
      "              (aa): Identity()\n",
      "              (conv3): Conv2d(256, 1024, kernel_size=(1, 1), stride=(1, 1), bias=False)\n",
      "              (bn3): DetrFrozenBatchNorm2d()\n",
      "              (act3): ReLU(inplace=True)\n",
      "            )\n",
      "            (4): Bottleneck(\n",
      "              (conv1): Conv2d(1024, 256, kernel_size=(1, 1), stride=(1, 1), bias=False)\n",
      "              (bn1): DetrFrozenBatchNorm2d()\n",
      "              (act1): ReLU(inplace=True)\n",
      "              (conv2): Conv2d(256, 256, kernel_size=(3, 3), stride=(1, 1), padding=(1, 1), bias=False)\n",
      "              (bn2): DetrFrozenBatchNorm2d()\n",
      "              (drop_block): Identity()\n",
      "              (act2): ReLU(inplace=True)\n",
      "              (aa): Identity()\n",
      "              (conv3): Conv2d(256, 1024, kernel_size=(1, 1), stride=(1, 1), bias=False)\n",
      "              (bn3): DetrFrozenBatchNorm2d()\n",
      "              (act3): ReLU(inplace=True)\n",
      "            )\n",
      "            (5): Bottleneck(\n",
      "              (conv1): Conv2d(1024, 256, kernel_size=(1, 1), stride=(1, 1), bias=False)\n",
      "              (bn1): DetrFrozenBatchNorm2d()\n",
      "              (act1): ReLU(inplace=True)\n",
      "              (conv2): Conv2d(256, 256, kernel_size=(3, 3), stride=(1, 1), padding=(1, 1), bias=False)\n",
      "              (bn2): DetrFrozenBatchNorm2d()\n",
      "              (drop_block): Identity()\n",
      "              (act2): ReLU(inplace=True)\n",
      "              (aa): Identity()\n",
      "              (conv3): Conv2d(256, 1024, kernel_size=(1, 1), stride=(1, 1), bias=False)\n",
      "              (bn3): DetrFrozenBatchNorm2d()\n",
      "              (act3): ReLU(inplace=True)\n",
      "            )\n",
      "          )\n",
      "          (layer4): Sequential(\n",
      "            (0): Bottleneck(\n",
      "              (conv1): Conv2d(1024, 512, kernel_size=(1, 1), stride=(1, 1), bias=False)\n",
      "              (bn1): DetrFrozenBatchNorm2d()\n",
      "              (act1): ReLU(inplace=True)\n",
      "              (conv2): Conv2d(512, 512, kernel_size=(3, 3), stride=(2, 2), padding=(1, 1), bias=False)\n",
      "              (bn2): DetrFrozenBatchNorm2d()\n",
      "              (drop_block): Identity()\n",
      "              (act2): ReLU(inplace=True)\n",
      "              (aa): Identity()\n",
      "              (conv3): Conv2d(512, 2048, kernel_size=(1, 1), stride=(1, 1), bias=False)\n",
      "              (bn3): DetrFrozenBatchNorm2d()\n",
      "              (act3): ReLU(inplace=True)\n",
      "              (downsample): Sequential(\n",
      "                (0): Conv2d(1024, 2048, kernel_size=(1, 1), stride=(2, 2), bias=False)\n",
      "                (1): DetrFrozenBatchNorm2d()\n",
      "              )\n",
      "            )\n",
      "            (1): Bottleneck(\n",
      "              (conv1): Conv2d(2048, 512, kernel_size=(1, 1), stride=(1, 1), bias=False)\n",
      "              (bn1): DetrFrozenBatchNorm2d()\n",
      "              (act1): ReLU(inplace=True)\n",
      "              (conv2): Conv2d(512, 512, kernel_size=(3, 3), stride=(1, 1), padding=(1, 1), bias=False)\n",
      "              (bn2): DetrFrozenBatchNorm2d()\n",
      "              (drop_block): Identity()\n",
      "              (act2): ReLU(inplace=True)\n",
      "              (aa): Identity()\n",
      "              (conv3): Conv2d(512, 2048, kernel_size=(1, 1), stride=(1, 1), bias=False)\n",
      "              (bn3): DetrFrozenBatchNorm2d()\n",
      "              (act3): ReLU(inplace=True)\n",
      "            )\n",
      "            (2): Bottleneck(\n",
      "              (conv1): Conv2d(2048, 512, kernel_size=(1, 1), stride=(1, 1), bias=False)\n",
      "              (bn1): DetrFrozenBatchNorm2d()\n",
      "              (act1): ReLU(inplace=True)\n",
      "              (conv2): Conv2d(512, 512, kernel_size=(3, 3), stride=(1, 1), padding=(1, 1), bias=False)\n",
      "              (bn2): DetrFrozenBatchNorm2d()\n",
      "              (drop_block): Identity()\n",
      "              (act2): ReLU(inplace=True)\n",
      "              (aa): Identity()\n",
      "              (conv3): Conv2d(512, 2048, kernel_size=(1, 1), stride=(1, 1), bias=False)\n",
      "              (bn3): DetrFrozenBatchNorm2d()\n",
      "              (act3): ReLU(inplace=True)\n",
      "            )\n",
      "          )\n",
      "        )\n",
      "      )\n",
      "      (position_embedding): DetrSinePositionEmbedding()\n",
      "    )\n",
      "    (input_projection): Conv2d(2048, 256, kernel_size=(1, 1), stride=(1, 1))\n",
      "    (query_position_embeddings): Embedding(100, 256)\n",
      "    (encoder): DetrEncoder(\n",
      "      (layers): ModuleList(\n",
      "        (0-5): 6 x DetrEncoderLayer(\n",
      "          (self_attn): DetrAttention(\n",
      "            (k_proj): Linear(in_features=256, out_features=256, bias=True)\n",
      "            (v_proj): Linear(in_features=256, out_features=256, bias=True)\n",
      "            (q_proj): Linear(in_features=256, out_features=256, bias=True)\n",
      "            (out_proj): Linear(in_features=256, out_features=256, bias=True)\n",
      "          )\n",
      "          (self_attn_layer_norm): LayerNorm((256,), eps=1e-05, elementwise_affine=True)\n",
      "          (activation_fn): ReLU()\n",
      "          (fc1): Linear(in_features=256, out_features=2048, bias=True)\n",
      "          (fc2): Linear(in_features=2048, out_features=256, bias=True)\n",
      "          (final_layer_norm): LayerNorm((256,), eps=1e-05, elementwise_affine=True)\n",
      "        )\n",
      "      )\n",
      "    )\n",
      "    (decoder): DetrDecoder(\n",
      "      (layers): ModuleList(\n",
      "        (0-5): 6 x DetrDecoderLayer(\n",
      "          (self_attn): DetrAttention(\n",
      "            (k_proj): Linear(in_features=256, out_features=256, bias=True)\n",
      "            (v_proj): Linear(in_features=256, out_features=256, bias=True)\n",
      "            (q_proj): Linear(in_features=256, out_features=256, bias=True)\n",
      "            (out_proj): Linear(in_features=256, out_features=256, bias=True)\n",
      "          )\n",
      "          (activation_fn): ReLU()\n",
      "          (self_attn_layer_norm): LayerNorm((256,), eps=1e-05, elementwise_affine=True)\n",
      "          (encoder_attn): DetrAttention(\n",
      "            (k_proj): Linear(in_features=256, out_features=256, bias=True)\n",
      "            (v_proj): Linear(in_features=256, out_features=256, bias=True)\n",
      "            (q_proj): Linear(in_features=256, out_features=256, bias=True)\n",
      "            (out_proj): Linear(in_features=256, out_features=256, bias=True)\n",
      "          )\n",
      "          (encoder_attn_layer_norm): LayerNorm((256,), eps=1e-05, elementwise_affine=True)\n",
      "          (fc1): Linear(in_features=256, out_features=2048, bias=True)\n",
      "          (fc2): Linear(in_features=2048, out_features=256, bias=True)\n",
      "          (final_layer_norm): LayerNorm((256,), eps=1e-05, elementwise_affine=True)\n",
      "        )\n",
      "      )\n",
      "      (layernorm): LayerNorm((256,), eps=1e-05, elementwise_affine=True)\n",
      "    )\n",
      "  )\n",
      "  (class_labels_classifier): Linear(in_features=256, out_features=4, bias=True)\n",
      "  (bbox_predictor): DetrMLPPredictionHead(\n",
      "    (layers): ModuleList(\n",
      "      (0-1): 2 x Linear(in_features=256, out_features=256, bias=True)\n",
      "      (2): Linear(in_features=256, out_features=4, bias=True)\n",
      "    )\n",
      "  )\n",
      ")\n"
     ]
    }
   ],
   "source": [
    "id2label: typing.Dict[int, str] = {i: cat for i, cat in enumerate(category_names)}\n",
    "label2id: typing.Dict[str, int] = {cat: i for i, cat in enumerate(category_names)}\n",
    "\n",
    "model: DetrForObjectDetection = AutoModelForObjectDetection.from_pretrained(image_processor_checkpoint,\n",
    "    id2label=id2label, label2id=label2id, ignore_mismatched_sizes=True)\n",
    "\n",
    "print(model)"
   ]
  },
  {
   "cell_type": "markdown",
   "metadata": {},
   "source": [
    "Now let's train the model on the 'train' images.\n",
    "\n",
    "Some notes on the training arguments:\n",
    "* A small batch size gives bad results, especially when using MPS. The model gets fine-tuned way faster with a bigger batch. The maximum depends on your hardware though.\n",
    "* According to some documentation, the learning rate should be between 1e-3 and 1e-5.\n",
    "* According to that same documentation, the weight decay should be between 1e-2 and 1e-4.\n",
    "* The default value for max_grad_norm should be 1.0 according to the documentation, but on MPS this gradient clipping might not be working. Also with a lower value of 0.5, the training algorithm would sometimes calculate very high gradients ('exploding' gradients) which nullifies quite a lot of the training.\n",
    "* To avoid high gradients, I added the gradient_accumulation_steps=4, which should result in a more 'smooth' learning, at the cost of slower learning."
   ]
  },
  {
   "cell_type": "code",
   "execution_count": 12,
   "metadata": {},
   "outputs": [],
   "source": [
    "finetuned_model_dir: str = 'facebook-detr-resnet-50-finetuned-for-basic-shapes'\n",
    "\n",
    "training_args: TrainingArguments = TrainingArguments(\n",
    "    output_dir=finetuned_model_dir,\n",
    "    overwrite_output_dir=True,\n",
    "    do_train=True,\n",
    "    per_device_train_batch_size=16,\n",
    "    num_train_epochs=30,\n",
    "    max_grad_norm=0.5,\n",
    "    gradient_accumulation_steps=4,\n",
    "    fp16=False, # only available on GPUs\n",
    "    save_steps=50,\n",
    "    logging_steps=30,\n",
    "    learning_rate=1e-5,\n",
    "    weight_decay=1e-4,\n",
    "    save_total_limit=2,\n",
    "    remove_unused_columns=False,\n",
    "    push_to_hub=False,\n",
    ")"
   ]
  },
  {
   "cell_type": "markdown",
   "metadata": {},
   "source": [
    "To be able to train with batches, you need a 'collator' method which tranforms a list of dicts into a single dictionary."
   ]
  },
  {
   "cell_type": "code",
   "execution_count": 11,
   "metadata": {},
   "outputs": [],
   "source": [
    "def batch_collator(batch_input: typing.List[typing.Dict]) -> typing.Dict:\n",
    "    \"\"\"  combine data of multiple images into 1 batch \"\"\"\n",
    "    pixel_values: typing.List = [item[\"pixel_values\"] for item in batch_input]\n",
    "    encoding = image_processor.pad(pixel_values, return_tensors=\"pt\")\n",
    "    labels = [item[\"labels\"] for item in batch_input]\n",
    "    batch_retval = {}\n",
    "    batch_retval[\"pixel_values\"] = encoding[\"pixel_values\"]\n",
    "    batch_retval[\"pixel_mask\"] = encoding[\"pixel_mask\"]\n",
    "    batch_retval[\"labels\"] = labels\n",
    "    return batch_retval"
   ]
  },
  {
   "cell_type": "markdown",
   "metadata": {},
   "source": [
    "Now the actual training or fine tuning of the model on the data that was prepared...\n",
    "\n",
    "A first training run:"
   ]
  },
  {
   "cell_type": "code",
   "execution_count": 18,
   "metadata": {},
   "outputs": [
    {
     "name": "stderr",
     "output_type": "stream",
     "text": [
      "/Users/verachte/git/github/basic_shapes_object_detection_model/venv/lib/python3.11/site-packages/accelerate/accelerator.py:432: FutureWarning: Passing the following arguments to `Accelerator` is deprecated and will be removed in version 1.0 of Accelerate: dict_keys(['dispatch_batches', 'split_batches', 'even_batches', 'use_seedable_sampler']). Please pass an `accelerate.DataLoaderConfiguration` instead: \n",
      "dataloader_config = DataLoaderConfiguration(dispatch_batches=None, split_batches=False, even_batches=True, use_seedable_sampler=True)\n",
      "  warnings.warn(\n",
      "  7%|▋         | 30/450 [05:06<1:11:23, 10.20s/it]"
     ]
    },
    {
     "name": "stdout",
     "output_type": "stream",
     "text": [
      "{'loss': 1.5952, 'grad_norm': 18.430248260498047, 'learning_rate': 9.333333333333334e-06, 'epoch': 1.9}\n"
     ]
    },
    {
     "name": "stderr",
     "output_type": "stream",
     "text": [
      " 13%|█▎        | 60/450 [10:11<1:06:01, 10.16s/it]"
     ]
    },
    {
     "name": "stdout",
     "output_type": "stream",
     "text": [
      "{'loss': 1.2458, 'grad_norm': 7.9395222663879395, 'learning_rate': 8.666666666666668e-06, 'epoch': 3.81}\n"
     ]
    },
    {
     "name": "stderr",
     "output_type": "stream",
     "text": [
      " 20%|██        | 90/450 [15:16<1:00:57, 10.16s/it]"
     ]
    },
    {
     "name": "stdout",
     "output_type": "stream",
     "text": [
      "{'loss': 1.05, 'grad_norm': 9.386923789978027, 'learning_rate': 8.000000000000001e-06, 'epoch': 5.71}\n"
     ]
    },
    {
     "name": "stderr",
     "output_type": "stream",
     "text": [
      " 27%|██▋       | 120/450 [20:20<55:51, 10.15s/it]  "
     ]
    },
    {
     "name": "stdout",
     "output_type": "stream",
     "text": [
      "{'loss': 0.9644, 'grad_norm': 18.014511108398438, 'learning_rate': 7.333333333333333e-06, 'epoch': 7.62}\n"
     ]
    },
    {
     "name": "stderr",
     "output_type": "stream",
     "text": [
      " 33%|███▎      | 150/450 [25:24<50:51, 10.17s/it]"
     ]
    },
    {
     "name": "stdout",
     "output_type": "stream",
     "text": [
      "{'loss': 0.9236, 'grad_norm': 13.595471382141113, 'learning_rate': 6.666666666666667e-06, 'epoch': 9.52}\n"
     ]
    },
    {
     "name": "stderr",
     "output_type": "stream",
     "text": [
      " 40%|████      | 180/450 [30:29<45:21, 10.08s/it]"
     ]
    },
    {
     "name": "stdout",
     "output_type": "stream",
     "text": [
      "{'loss': 0.9021, 'grad_norm': 9.90170955657959, 'learning_rate': 6e-06, 'epoch': 11.43}\n"
     ]
    },
    {
     "name": "stderr",
     "output_type": "stream",
     "text": [
      " 47%|████▋     | 210/450 [35:33<39:46,  9.94s/it]"
     ]
    },
    {
     "name": "stdout",
     "output_type": "stream",
     "text": [
      "{'loss': 0.888, 'grad_norm': 9.105988502502441, 'learning_rate': 5.333333333333334e-06, 'epoch': 13.33}\n"
     ]
    },
    {
     "name": "stderr",
     "output_type": "stream",
     "text": [
      " 53%|█████▎    | 240/450 [40:32<34:41,  9.91s/it]"
     ]
    },
    {
     "name": "stdout",
     "output_type": "stream",
     "text": [
      "{'loss': 0.8788, 'grad_norm': 12.8645601272583, 'learning_rate': 4.666666666666667e-06, 'epoch': 15.24}\n"
     ]
    },
    {
     "name": "stderr",
     "output_type": "stream",
     "text": [
      " 60%|██████    | 270/450 [45:30<29:26,  9.81s/it]"
     ]
    },
    {
     "name": "stdout",
     "output_type": "stream",
     "text": [
      "{'loss': 0.8677, 'grad_norm': 7.014223575592041, 'learning_rate': 4.000000000000001e-06, 'epoch': 17.14}\n"
     ]
    },
    {
     "name": "stderr",
     "output_type": "stream",
     "text": [
      " 67%|██████▋   | 300/450 [50:28<24:17,  9.72s/it]"
     ]
    },
    {
     "name": "stdout",
     "output_type": "stream",
     "text": [
      "{'loss': 0.8531, 'grad_norm': 8.655557632446289, 'learning_rate': 3.3333333333333333e-06, 'epoch': 19.05}\n"
     ]
    },
    {
     "name": "stderr",
     "output_type": "stream",
     "text": [
      " 73%|███████▎  | 330/450 [55:29<20:02, 10.02s/it]"
     ]
    },
    {
     "name": "stdout",
     "output_type": "stream",
     "text": [
      "{'loss': 0.845, 'grad_norm': 11.849687576293945, 'learning_rate': 2.666666666666667e-06, 'epoch': 20.95}\n"
     ]
    },
    {
     "name": "stderr",
     "output_type": "stream",
     "text": [
      " 80%|████████  | 360/450 [1:00:29<15:02, 10.03s/it]"
     ]
    },
    {
     "name": "stdout",
     "output_type": "stream",
     "text": [
      "{'loss': 0.8315, 'grad_norm': 15.206281661987305, 'learning_rate': 2.0000000000000003e-06, 'epoch': 22.86}\n"
     ]
    },
    {
     "name": "stderr",
     "output_type": "stream",
     "text": [
      " 87%|████████▋ | 390/450 [1:05:31<10:14, 10.25s/it]"
     ]
    },
    {
     "name": "stdout",
     "output_type": "stream",
     "text": [
      "{'loss': 0.8244, 'grad_norm': 5.940078258514404, 'learning_rate': 1.3333333333333334e-06, 'epoch': 24.76}\n"
     ]
    },
    {
     "name": "stderr",
     "output_type": "stream",
     "text": [
      " 93%|█████████▎| 420/450 [1:10:37<05:04, 10.14s/it]"
     ]
    },
    {
     "name": "stdout",
     "output_type": "stream",
     "text": [
      "{'loss': 0.817, 'grad_norm': 8.530083656311035, 'learning_rate': 6.666666666666667e-07, 'epoch': 26.67}\n"
     ]
    },
    {
     "name": "stderr",
     "output_type": "stream",
     "text": [
      "100%|██████████| 450/450 [1:15:43<00:00, 10.38s/it]"
     ]
    },
    {
     "name": "stdout",
     "output_type": "stream",
     "text": [
      "{'loss': 0.8127, 'grad_norm': 10.025440216064453, 'learning_rate': 0.0, 'epoch': 28.57}\n"
     ]
    },
    {
     "name": "stderr",
     "output_type": "stream",
     "text": [
      "100%|██████████| 450/450 [1:15:44<00:00, 10.10s/it]\n"
     ]
    },
    {
     "name": "stdout",
     "output_type": "stream",
     "text": [
      "{'train_runtime': 4544.746, 'train_samples_per_second': 6.601, 'train_steps_per_second': 0.099, 'train_loss': 0.9533011627197265, 'epoch': 28.57}\n"
     ]
    }
   ],
   "source": [
    "trainer = Trainer(\n",
    "    model=model,\n",
    "    args=training_args,\n",
    "    data_collator=batch_collator,\n",
    "    #train_dataset=typing.cast(TorchDataset, ds[\"train_transformed\"].select([0])),\n",
    "    train_dataset=typing.cast(TorchDataset, ds[\"train_transformed\"]),\n",
    "    tokenizer=typing.cast(PreTrainedTokenizerBase, image_processor),\n",
    ")\n",
    "\n",
    "trainer.train()\n",
    "trainer.save_model(finetuned_model_dir)"
   ]
  },
  {
   "cell_type": "markdown",
   "metadata": {},
   "source": [
    "My macbook was hot and noisy for +/- 75 minutes and managed to reach a loss of 0.8. I did a brief test on some images and the results were quite bad.\n",
    "\n",
    "It's quite easy to train a HuggingFace model for some extra epochs: just call the train() method again."
   ]
  },
  {
   "cell_type": "code",
   "execution_count": 22,
   "metadata": {},
   "outputs": [
    {
     "name": "stderr",
     "output_type": "stream",
     "text": [
      "  7%|▋         | 30/450 [05:25<1:14:53, 10.70s/it]"
     ]
    },
    {
     "name": "stdout",
     "output_type": "stream",
     "text": [
      "{'loss': 0.7911, 'grad_norm': 11.29993724822998, 'learning_rate': 9.333333333333334e-06, 'epoch': 1.9}\n"
     ]
    },
    {
     "name": "stderr",
     "output_type": "stream",
     "text": [
      " 13%|█▎        | 60/450 [10:55<1:12:58, 11.23s/it]"
     ]
    },
    {
     "name": "stdout",
     "output_type": "stream",
     "text": [
      "{'loss': 0.7312, 'grad_norm': 8.157944679260254, 'learning_rate': 8.666666666666668e-06, 'epoch': 3.81}\n"
     ]
    },
    {
     "name": "stderr",
     "output_type": "stream",
     "text": [
      " 20%|██        | 90/450 [16:18<1:03:40, 10.61s/it]"
     ]
    },
    {
     "name": "stdout",
     "output_type": "stream",
     "text": [
      "{'loss': 0.7689, 'grad_norm': 32.39998245239258, 'learning_rate': 8.000000000000001e-06, 'epoch': 5.71}\n"
     ]
    },
    {
     "name": "stderr",
     "output_type": "stream",
     "text": [
      " 27%|██▋       | 120/450 [21:40<58:22, 10.61s/it]  "
     ]
    },
    {
     "name": "stdout",
     "output_type": "stream",
     "text": [
      "{'loss': 0.7981, 'grad_norm': 17.85107421875, 'learning_rate': 7.333333333333333e-06, 'epoch': 7.62}\n"
     ]
    },
    {
     "name": "stderr",
     "output_type": "stream",
     "text": [
      " 33%|███▎      | 150/450 [27:01<53:33, 10.71s/it]"
     ]
    },
    {
     "name": "stdout",
     "output_type": "stream",
     "text": [
      "{'loss': 0.7246, 'grad_norm': 15.627989768981934, 'learning_rate': 6.666666666666667e-06, 'epoch': 9.52}\n"
     ]
    },
    {
     "name": "stderr",
     "output_type": "stream",
     "text": [
      " 40%|████      | 180/450 [32:23<48:14, 10.72s/it]"
     ]
    },
    {
     "name": "stdout",
     "output_type": "stream",
     "text": [
      "{'loss': 0.758, 'grad_norm': 22.889949798583984, 'learning_rate': 6e-06, 'epoch': 11.43}\n"
     ]
    },
    {
     "name": "stderr",
     "output_type": "stream",
     "text": [
      " 47%|████▋     | 210/450 [37:54<45:20, 11.33s/it]"
     ]
    },
    {
     "name": "stdout",
     "output_type": "stream",
     "text": [
      "{'loss': 0.7098, 'grad_norm': 16.97774887084961, 'learning_rate': 5.333333333333334e-06, 'epoch': 13.33}\n"
     ]
    },
    {
     "name": "stderr",
     "output_type": "stream",
     "text": [
      " 53%|█████▎    | 240/450 [43:31<39:07, 11.18s/it]"
     ]
    },
    {
     "name": "stdout",
     "output_type": "stream",
     "text": [
      "{'loss': 0.6377, 'grad_norm': 16.335668563842773, 'learning_rate': 4.666666666666667e-06, 'epoch': 15.24}\n"
     ]
    },
    {
     "name": "stderr",
     "output_type": "stream",
     "text": [
      " 60%|██████    | 270/450 [48:57<31:30, 10.50s/it]"
     ]
    },
    {
     "name": "stdout",
     "output_type": "stream",
     "text": [
      "{'loss': 0.6, 'grad_norm': 8.778648376464844, 'learning_rate': 4.000000000000001e-06, 'epoch': 17.14}\n"
     ]
    },
    {
     "name": "stderr",
     "output_type": "stream",
     "text": [
      " 67%|██████▋   | 300/450 [54:17<25:58, 10.39s/it]"
     ]
    },
    {
     "name": "stdout",
     "output_type": "stream",
     "text": [
      "{'loss': 0.5867, 'grad_norm': 14.12330150604248, 'learning_rate': 3.3333333333333333e-06, 'epoch': 19.05}\n"
     ]
    },
    {
     "name": "stderr",
     "output_type": "stream",
     "text": [
      " 73%|███████▎  | 330/450 [59:41<21:27, 10.73s/it]"
     ]
    },
    {
     "name": "stdout",
     "output_type": "stream",
     "text": [
      "{'loss': 0.5899, 'grad_norm': 11.55584716796875, 'learning_rate': 2.666666666666667e-06, 'epoch': 20.95}\n"
     ]
    },
    {
     "name": "stderr",
     "output_type": "stream",
     "text": [
      " 80%|████████  | 360/450 [1:05:05<16:11, 10.79s/it]"
     ]
    },
    {
     "name": "stdout",
     "output_type": "stream",
     "text": [
      "{'loss': 0.5794, 'grad_norm': 17.078821182250977, 'learning_rate': 2.0000000000000003e-06, 'epoch': 22.86}\n"
     ]
    },
    {
     "name": "stderr",
     "output_type": "stream",
     "text": [
      " 87%|████████▋ | 390/450 [1:10:28<10:45, 10.75s/it]"
     ]
    },
    {
     "name": "stdout",
     "output_type": "stream",
     "text": [
      "{'loss': 0.5763, 'grad_norm': 11.1632719039917, 'learning_rate': 1.3333333333333334e-06, 'epoch': 24.76}\n"
     ]
    },
    {
     "name": "stderr",
     "output_type": "stream",
     "text": [
      " 93%|█████████▎| 420/450 [1:15:50<05:21, 10.71s/it]"
     ]
    },
    {
     "name": "stdout",
     "output_type": "stream",
     "text": [
      "{'loss': 0.5886, 'grad_norm': 24.865928649902344, 'learning_rate': 6.666666666666667e-07, 'epoch': 26.67}\n"
     ]
    },
    {
     "name": "stderr",
     "output_type": "stream",
     "text": [
      "100%|██████████| 450/450 [1:21:10<00:00, 10.73s/it]"
     ]
    },
    {
     "name": "stdout",
     "output_type": "stream",
     "text": [
      "{'loss': 0.5778, 'grad_norm': 33.49820327758789, 'learning_rate': 0.0, 'epoch': 28.57}\n"
     ]
    },
    {
     "name": "stderr",
     "output_type": "stream",
     "text": [
      "100%|██████████| 450/450 [1:21:12<00:00, 10.83s/it]\n"
     ]
    },
    {
     "name": "stdout",
     "output_type": "stream",
     "text": [
      "{'train_runtime': 4872.5178, 'train_samples_per_second': 6.157, 'train_steps_per_second': 0.092, 'train_loss': 0.6678599082099067, 'epoch': 28.57}\n"
     ]
    }
   ],
   "source": [
    "trainer.train()\n",
    "trainer.save_model(finetuned_model_dir)"
   ]
  },
  {
   "cell_type": "markdown",
   "metadata": {},
   "source": [
    "After another +/- 80 minutes, the loss went down to +/- 0.58. At this level, it seems to be able to detect most of the objects on a test image, but the confidence level is still quite low. Let's now test the image."
   ]
  },
  {
   "cell_type": "markdown",
   "metadata": {},
   "source": [
    "When you want to use the model for some inference, to detect some shapes on a test image, you have\n",
    "to make sure the correct device memory is used. Otherwise you get errors about input data being located\n",
    "in CPU memory but weights stored in the MPS memory for example.\n",
    "\n",
    "A method to select the correct device which should be used during inference:"
   ]
  },
  {
   "cell_type": "code",
   "execution_count": 5,
   "metadata": {},
   "outputs": [
    {
     "name": "stdout",
     "output_type": "stream",
     "text": [
      "MPS is available: using Apple Silicon GPU\n",
      "get_torch_device() returns: mps:0\n"
     ]
    }
   ],
   "source": [
    "def get_torch_device() -> torch.device:\n",
    "    if torch.cuda.is_available():\n",
    "        print(\"cuda is available: using GPU(s)\")\n",
    "        return torch.device(\"cuda\")\n",
    "    if torch.backends.mps.is_available():\n",
    "        print(\"MPS is available: using Apple Silicon GPU\")\n",
    "        return torch.device(\"mps:0\")\n",
    "    print(\"No CUDA or MPS available: using the CPU\")\n",
    "    return torch.device(\"cpu\")\n",
    "\n",
    "print(\"get_torch_device() returns: \" + str(get_torch_device()))"
   ]
  },
  {
   "cell_type": "markdown",
   "metadata": {},
   "source": [
    "Next, let's define a generic method which can be used to detect objects with any model. This way we can compare the fine-tuned model with the original model.\n",
    "\n",
    "Inference consists of +/- the following steps:\n",
    "* preprocess the image: it's converted to tensors, with pixel values with an average of 0 (similar to what happened in the preprocessing for training)\n",
    "* run the model on the preprocessed image\n",
    "* postprocess the result, keep only the objects and their bounding boxes & labels that were detected with a confidence above a certain threshold\n",
    "\n",
    "Note that these steps are designed to work on multiple images concurrently, which means we'll have to wrap the single image in some array.\n",
    "\n",
    "The following method 'detect_objects' does the following:\n",
    "* Make sure the model is located in the correct device memory\n",
    "* The 3 inference steps listed above\n",
    "* Print some info about the objects found: the confidence values, the bounding boxes and the labels\n",
    "* Show the input image with the bounding boxes applied.\n",
    "\n",
    "In this case, the bounding boxes are in x1,y1,x2,y2 format: the coordinates of the top left pixel and the bottom right pixel.\n",
    "\n",
    "Sadly Python typing has some issues here, as the models use types like 'DeviceLikeType' and 'TensorType' which does not seem to match the actual types."
   ]
  },
  {
   "cell_type": "code",
   "execution_count": 6,
   "metadata": {},
   "outputs": [],
   "source": [
    "def detect_objects(img: Image, some_image_processor: DetrImageProcessor, some_model: DetrForObjectDetection, threshold=0.4) -> typing.Dict:\n",
    "    torch_device: torch.device = get_torch_device()\n",
    "    # move the model to the GPU memory if it's available\n",
    "    some_model = some_model.to(torch_device)\n",
    "\n",
    "    with torch.no_grad(): # gradients aren't needed for inference\n",
    "        preprocessed = some_image_processor(img, return_tensors='pt')\n",
    "        preprocessed = preprocessed.to(torch_device)\n",
    "    model_output = some_model(**preprocessed)\n",
    "    # tensor of the size of each image, in this case just the single image\n",
    "    # => we end up with a tensor with just 1 array containing an array with the height and width\n",
    "    target_sizes = torch.tensor([[img.height, img.width]])\n",
    "    target_sizes = torch.tensor([img.size[::-1]])\n",
    "    result_list: typing.List[typing.Dict] = some_image_processor.post_process_object_detection(outputs=model_output, target_sizes=target_sizes, threshold=threshold)\n",
    "\n",
    "    # We get a list with a dict for each image. We only gave it 1 image, so there's only a dict at index 0.\n",
    "    result: typing.Dict = result_list[0]\n",
    "    # 'result' contains all the info about the detected objects such as bounding boxes and labels\n",
    "\n",
    "    # Show the original image\n",
    "    np_image = np.array(img)\n",
    "    width = np_image.shape[0]\n",
    "    height = np_image.shape[1]\n",
    "    print(f\"width: {width}, height: {height}\")\n",
    "    _, ax = plt.subplots()\n",
    "    ax.imshow(np_image)\n",
    "    ax.axis('off')\n",
    "\n",
    "    if len(result['scores']) == 0:\n",
    "        print(f\"Nothing detect at threshold level {threshold}\")\n",
    "    else:\n",
    "        print(f\"Number of detected objects at threshold level {threshold}: {len(result['scores'])}\")\n",
    "\n",
    "    # For each of the detected objects: print some info and also add a rectangle on the shown image\n",
    "    for score, category_id_tensor, box in zip(result['scores'], result['labels'], result['boxes']):\n",
    "        # convert the tensor containing just the single label id into an int\n",
    "        cat_id: int = int(category_id_tensor)\n",
    "        category_name: str = some_model.config.id2label[cat_id]\n",
    "        # convert the tensor values of the bounding box to regular python ints\n",
    "        x = int(box[0])\n",
    "        y = int(box[1])\n",
    "        w = int(box[2]-box[0])\n",
    "        h = int(box[3]-box[1])\n",
    "        print(f\"Category {category_name} with score {score:.2f} at bounding box {x},{y},{w},{h}\")\n",
    "        rect = patches.Rectangle((x,y), w, h, linewidth=1, edgecolor='r', facecolor='none')\n",
    "        ax.add_patch(rect)\n",
    "    plt.show()\n",
    "    return result\n"
   ]
  },
  {
   "cell_type": "markdown",
   "metadata": {},
   "source": [
    "First test: use the model which was fine-tuned on a MacBook Air with MPS for +/- two and a half hours on an image in the 'test' set. This image was not used for training.\n"
   ]
  },
  {
   "cell_type": "code",
   "execution_count": 19,
   "metadata": {},
   "outputs": [
    {
     "name": "stdout",
     "output_type": "stream",
     "text": [
      "MPS is available: using Apple Silicon GPU\n",
      "width: 800, height: 800\n",
      "Number of detected objects at threshold level 0.3: 3\n",
      "Category Triangle with score 0.40 at bounding box 194,400,91,49\n",
      "Category Square with score 0.34 at bounding box 152,94,100,104\n",
      "Category Circle with score 0.38 at bounding box 331,133,100,101\n"
     ]
    },
    {
     "data": {
      "image/png": "[encoded data removed]",
      "text/plain": [
       "<Figure size 640x480 with 1 Axes>"
      ]
     },
     "metadata": {},
     "output_type": "display_data"
    }
   ],
   "source": [
    "def test_detect_objects_in_first_test_image_with_finetuned_model_on_mps():\n",
    "    inference_image_processor: DetrImageProcessor = AutoImageProcessor.from_pretrained(finetuned_model_dir)\n",
    "    inference_model: DetrForObjectDetection = AutoModelForObjectDetection.from_pretrained(finetuned_model_dir)\n",
    "    test_img: Image = ds['test'][0]['image']\n",
    "    detection_result: typing.Dict = detect_objects(test_img, inference_image_processor, inference_model, threshold=0.3)\n",
    "\n",
    "test_detect_objects_in_first_test_image_with_finetuned_model_on_mps()"
   ]
  },
  {
   "cell_type": "markdown",
   "metadata": {},
   "source": [
    "The confidence values are low, but it does a fairly OK job: the fine-tuned model managed to detect all 3 objects.\n",
    "\n",
    "Next test: use the original not-fine-tuned model on the same test image:"
   ]
  },
  {
   "cell_type": "code",
   "execution_count": 17,
   "metadata": {},
   "outputs": [
    {
     "name": "stdout",
     "output_type": "stream",
     "text": [
      "MPS is available: using Apple Silicon GPU\n",
      "width: 800, height: 800\n",
      "Number of detected objects at threshold level 0.1: 1\n",
      "Category kite with score 0.10 at bounding box 189,399,102,46\n"
     ]
    },
    {
     "data": {
      "image/png": "[encoded data removed]",
      "text/plain": [
       "<Figure size 640x480 with 1 Axes>"
      ]
     },
     "metadata": {},
     "output_type": "display_data"
    }
   ],
   "source": [
    "def test_detect_objects_in_first_test_image_with_original_detr_resnet_50_model():\n",
    "    inference_image_processor: DetrImageProcessor = AutoImageProcessor.from_pretrained(\"facebook/detr-resnet-50\", revision=\"no_timm\")\n",
    "    inference_model: DetrForObjectDetection = AutoModelForObjectDetection.from_pretrained(\"facebook/detr-resnet-50\", revision=\"no_timm\")\n",
    "    test_img: Image = ds['test'][0]['image']\n",
    "    detection_result: typing.Dict = detect_objects(test_img, inference_image_processor, inference_model, threshold=0.1)\n",
    "\n",
    "test_detect_objects_in_first_test_image_with_original_detr_resnet_50_model()"
   ]
  },
  {
   "cell_type": "markdown",
   "metadata": {},
   "source": [
    "The threshold has to be dropped to 0.1 to get just 1 detected object: apparently the triangle looks a bit like a kite.\n",
    "\n",
    "The original facebook/detr-resnet-50 model is clearly not meant to be used to detect basic shapes in an image."
   ]
  },
  {
   "cell_type": "markdown",
   "metadata": {},
   "source": [
    "I've run this notebook also on a system with an NVIDIA V100 GPU. All the code is the same, except the training code is slightly different:\n",
    "\n",
    "```\n",
    "finetuned_model_dir_nvidia_v100: str = 'facebook-detr-resnet-50-finetuned-for-basic-shapes-on-nvidia-v100'\n",
    "\n",
    "training_args_single_image: TrainingArguments = TrainingArguments(\n",
    "    output_dir=finetuned_model_dir_nvidia_v100,\n",
    "    overwrite_output_dir=True,\n",
    "    do_train=True,\n",
    "    per_device_train_batch_size=16,\n",
    "    num_train_epochs=20,\n",
    "    fp16=False, # only available on GPUs\n",
    "    save_steps=50,\n",
    "    logging_steps=20,\n",
    "    learning_rate=1e-5,\n",
    "    weight_decay=1e-4,\n",
    "    save_total_limit=2,\n",
    "    remove_unused_columns=False,\n",
    "    push_to_hub=False,\n",
    ")\n",
    "```\n",
    "Training took only 34 minutes to reach a training loss of 0.3, which is quite a bit lower than what my MacBook Pro could reach after 2 and a half hour of calculations.\n",
    "\n",
    "I've copied the 'facebook-detr-resnet-50-finetuned-for-basic-shapes-on-nvidia-v100' directory so I could test the result within this notebook:"
   ]
  },
  {
   "cell_type": "code",
   "execution_count": 10,
   "metadata": {},
   "outputs": [
    {
     "name": "stdout",
     "output_type": "stream",
     "text": [
      "MPS is available: using Apple Silicon GPU\n",
      "width: 800, height: 800\n",
      "Number of detected objects at threshold level 0.5: 3\n",
      "Category Triangle with score 0.56 at bounding box 191,398,99,49\n",
      "Category Square with score 0.70 at bounding box 153,96,98,99\n",
      "Category Circle with score 0.70 at bounding box 335,134,98,100\n"
     ]
    },
    {
     "data": {
      "image/png": "[encoded data removed]",
      "text/plain": [
       "<Figure size 640x480 with 1 Axes>"
      ]
     },
     "metadata": {},
     "output_type": "display_data"
    }
   ],
   "source": [
    "finetuned_model_dir_nvidia_v100: str = \"facebook-detr-resnet-50-finetuned-for-basic-shapes-on-nvidia-v100\"\n",
    "\n",
    "def test_detect_objects_in_first_test_image_with_finetuned_model_on_nvidia_v100():\n",
    "    inference_image_processor: DetrImageProcessor = AutoImageProcessor.from_pretrained(finetuned_model_dir_nvidia_v100)\n",
    "    inference_model: DetrForObjectDetection = AutoModelForObjectDetection.from_pretrained(finetuned_model_dir_nvidia_v100)\n",
    "    test_img: Image = ds['test'][0]['image']\n",
    "    detection_result: typing.Dict = detect_objects(test_img, inference_image_processor, inference_model, threshold=0.5)\n",
    "\n",
    "test_detect_objects_in_first_test_image_with_finetuned_model_on_nvidia_v100()"
   ]
  },
  {
   "cell_type": "markdown",
   "metadata": {},
   "source": [
    "The confidence levels are higher and the bounding box of the circle is better positioned. \n",
    "\n",
    "Final step: push the model to HuggingFace Hub. The pushed model is the one fine-tuned on a V100."
   ]
  },
  {
   "cell_type": "code",
   "execution_count": 12,
   "metadata": {},
   "outputs": [
    {
     "data": {
      "application/vnd.jupyter.widget-view+json": {
       "model_id": "25097b56b9ce4f8396e73b022f5872a2",
       "version_major": 2,
       "version_minor": 0
      },
      "text/plain": [
       "README.md:   0%|          | 0.00/11.0 [00:00<?, ?B/s]"
      ]
     },
     "metadata": {},
     "output_type": "display_data"
    }
   ],
   "source": [
    "import huggingface_hub\n",
    "\n",
    "def push_model_to_huggingface_hub():\n",
    "    model: DetrForObjectDetection = AutoModelForObjectDetection.from_pretrained(finetuned_model_dir_nvidia_v100)\n",
    "    hf_token: typing.Optional[str] = huggingface_hub.HfFolder.get_token()\n",
    "    if hf_token is None:\n",
    "        print(\"You first need to login to use the HugginFace hub\")\n",
    "    else:\n",
    "        model.push_to_hub(repo_id='driesverachtert/basic_shapes_object_detection', private=False, token=hf_token)\n",
    "\n",
    "    readme_file: str = \"README.md\"\n",
    "    readme_contents: str\n",
    "    with open(readme_file, 'r') as file:\n",
    "        readme_contents = file.read()\n",
    "    card = huggingface_hub.repocard.RepoCard(readme_contents)\n",
    "    card.push_to_hub('driesverachtert/basic_shapes_object_detection', token=hf_token, repo_type=\"model\")\n",
    "\n",
    "push_model_to_huggingface_hub()"
   ]
  },
  {
   "cell_type": "markdown",
   "metadata": {},
   "source": [
    "The load on my macbook pro during training:\n",
    "\n",
    "![GPUs fully used](macbook-pro-load-during-training.png)"
   ]
  }
 ],
 "metadata": {
  "kernelspec": {
   "display_name": "venv",
   "language": "python",
   "name": "python3"
  },
  "language_info": {
   "codemirror_mode": {
    "name": "ipython",
    "version": 3
   },
   "file_extension": ".py",
   "mimetype": "text/x-python",
   "name": "python",
   "nbconvert_exporter": "python",
   "pygments_lexer": "ipython3",
   "version": "3.11.7"
  }
 },
 "nbformat": 4,
 "nbformat_minor": 2
}
